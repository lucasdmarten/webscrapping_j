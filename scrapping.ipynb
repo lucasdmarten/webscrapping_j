{
 "cells": [
  {
   "cell_type": "code",
   "execution_count": 2,
   "id": "straight-seller",
   "metadata": {},
   "outputs": [],
   "source": [
    "from selenium import webdriver\n",
    "import time\n",
    "import requests\n",
    "from bs4 import BeautifulSoup\n",
    "import pprint\n",
    "import pandas as pd\n",
    "import datetime"
   ]
  },
  {
   "cell_type": "code",
   "execution_count": 3,
   "id": "nasty-boost",
   "metadata": {},
   "outputs": [],
   "source": [
    "driver = webdriver.Firefox()\n",
    "driver.get(\"https://resultadosemponto.com/\")"
   ]
  },
  {
   "cell_type": "code",
   "execution_count": 427,
   "id": "painted-furniture",
   "metadata": {},
   "outputs": [],
   "source": [
    "# openTable = driver.find_element_by_xpath(\"//h2[@class='entry-title']\")\n",
    "# openTable.click()"
   ]
  },
  {
   "cell_type": "code",
   "execution_count": 4,
   "id": "exact-genius",
   "metadata": {},
   "outputs": [],
   "source": [
    "url = driver.current_url\n",
    "r = requests.get(url)\n",
    "soup = BeautifulSoup(r.content, 'html.parser')\n",
    "titles = soup.find_all('h2', {'class':'entry-title'})\n",
    "articles = soup.find_all('article')"
   ]
  },
  {
   "cell_type": "code",
   "execution_count": 5,
   "id": "behind-reproduction",
   "metadata": {},
   "outputs": [
    {
     "data": {
      "text/plain": [
       "['Jogo', 'Do', 'Bicho', 'PT-Rio', '16:20hs', 'Quinta-Feira', '25/03/2021']"
      ]
     },
     "execution_count": 5,
     "metadata": {},
     "output_type": "execute_result"
    }
   ],
   "source": [
    "articles[0].find_all('h2', {'class':'entry-title'})[0].text.split()"
   ]
  },
  {
   "cell_type": "code",
   "execution_count": 443,
   "id": "parallel-analysis",
   "metadata": {},
   "outputs": [],
   "source": [
    "date = articles[0].find_all('h2', {'class':'entry-title'})[0].text.split()[-1]\n",
    "hour = articles[0].find_all('h2', {'class':'entry-title'})[0].text.split()[-3]"
   ]
  },
  {
   "cell_type": "code",
   "execution_count": 704,
   "id": "solar-craft",
   "metadata": {},
   "outputs": [],
   "source": [
    "def get_data(articles):\n",
    "    dfs=[]\n",
    "    \n",
    "    for j in range(len(articles)):\n",
    "        \n",
    "        # METADATA\n",
    "        name1 = articles[j].find_all('h2', {'class':'entry-title'})[0].text.split()[3]       \n",
    "        date = articles[j].find_all('h2', {'class':'entry-title'})[0].text.split()[-1]\n",
    "        hour = articles[j].find_all('h2', {'class':'entry-title'})[0].text.split()[-3]\n",
    "        objDate = datetime.datetime.strptime( (date + \" \" + hour[:-2]), '%d/%m/%Y %H:%M' )        \n",
    "        \n",
    "        # DATA\n",
    "        tds = articles[j].find_all('td')\n",
    "        ns = ['1°','2°','3°','4°','5°','6°','7°']\n",
    "        PREMIO = []\n",
    "        RESULTADO = []\n",
    "        GRUPO = []\n",
    "        for i in range(len(tds)-3):\n",
    "            n=i                                   \n",
    "            for key in ns:                \n",
    "                if key in tds[i]:\n",
    "                    PREMIO.append(str(tds[n].text))\n",
    "                    RESULTADO.append(int(tds[n+1].text))\n",
    "                    GRUPO.append(int(tds[n+2].text))                                        \n",
    "                elif len(tds) == 22:                    \n",
    "                    m=0\n",
    "                    while m < len(tds[:-1]):                    \n",
    "                        PREMIO.append(str(tds[m].text))\n",
    "                        RESULTADO.append(int(tds[m+1].text))\n",
    "                        GRUPO.append(tds[m+2].text.split()[0])                        \n",
    "                        m += 3\n",
    "                    break\n",
    "            n+=3\n",
    "        df = pd.DataFrame({\n",
    "            \"DATA\": objDate,\n",
    "            \"NOME\": name1,\n",
    "            \"PREMIO\": PREMIO,\n",
    "            \"RESULTADO\": RESULTADO,\n",
    "            \"GRUPO\": GRUPO\n",
    "        }).drop_duplicates()\n",
    "        df.to_csv('./jogodobixo_{}.csv'.format(j))\n",
    "        dfs.append(df)\n",
    "\n",
    "    return dfs"
   ]
  },
  {
   "cell_type": "code",
   "execution_count": 705,
   "id": "careful-weekly",
   "metadata": {},
   "outputs": [],
   "source": [
    "dfs = get_data(articles)"
   ]
  },
  {
   "cell_type": "code",
   "execution_count": 703,
   "id": "institutional-commonwealth",
   "metadata": {},
   "outputs": [
    {
     "data": {
      "text/html": [
       "<div>\n",
       "<style scoped>\n",
       "    .dataframe tbody tr th:only-of-type {\n",
       "        vertical-align: middle;\n",
       "    }\n",
       "\n",
       "    .dataframe tbody tr th {\n",
       "        vertical-align: top;\n",
       "    }\n",
       "\n",
       "    .dataframe thead th {\n",
       "        text-align: right;\n",
       "    }\n",
       "</style>\n",
       "<table border=\"1\" class=\"dataframe\">\n",
       "  <thead>\n",
       "    <tr style=\"text-align: right;\">\n",
       "      <th></th>\n",
       "      <th>DATA</th>\n",
       "      <th>NOME</th>\n",
       "      <th>PREMIO</th>\n",
       "      <th>RESULTADO</th>\n",
       "      <th>GRUPO</th>\n",
       "    </tr>\n",
       "  </thead>\n",
       "  <tbody>\n",
       "    <tr>\n",
       "      <th>0</th>\n",
       "      <td>2021-03-24 19:20:00</td>\n",
       "      <td>Federal</td>\n",
       "      <td>1º</td>\n",
       "      <td>1936</td>\n",
       "      <td>09</td>\n",
       "    </tr>\n",
       "    <tr>\n",
       "      <th>1</th>\n",
       "      <td>2021-03-24 19:20:00</td>\n",
       "      <td>Federal</td>\n",
       "      <td>2º</td>\n",
       "      <td>2758</td>\n",
       "      <td>15</td>\n",
       "    </tr>\n",
       "    <tr>\n",
       "      <th>2</th>\n",
       "      <td>2021-03-24 19:20:00</td>\n",
       "      <td>Federal</td>\n",
       "      <td>3º</td>\n",
       "      <td>6920</td>\n",
       "      <td>05</td>\n",
       "    </tr>\n",
       "    <tr>\n",
       "      <th>3</th>\n",
       "      <td>2021-03-24 19:20:00</td>\n",
       "      <td>Federal</td>\n",
       "      <td>4º</td>\n",
       "      <td>9751</td>\n",
       "      <td>13</td>\n",
       "    </tr>\n",
       "    <tr>\n",
       "      <th>4</th>\n",
       "      <td>2021-03-24 19:20:00</td>\n",
       "      <td>Federal</td>\n",
       "      <td>5º</td>\n",
       "      <td>4908</td>\n",
       "      <td>02</td>\n",
       "    </tr>\n",
       "    <tr>\n",
       "      <th>5</th>\n",
       "      <td>2021-03-24 19:20:00</td>\n",
       "      <td>Federal</td>\n",
       "      <td>6º</td>\n",
       "      <td>6273</td>\n",
       "      <td>19</td>\n",
       "    </tr>\n",
       "    <tr>\n",
       "      <th>6</th>\n",
       "      <td>2021-03-24 19:20:00</td>\n",
       "      <td>Federal</td>\n",
       "      <td>7º</td>\n",
       "      <td>159</td>\n",
       "      <td>15</td>\n",
       "    </tr>\n",
       "  </tbody>\n",
       "</table>\n",
       "</div>"
      ],
      "text/plain": [
       "                 DATA     NOME PREMIO  RESULTADO GRUPO\n",
       "0 2021-03-24 19:20:00  Federal     1º       1936    09\n",
       "1 2021-03-24 19:20:00  Federal     2º       2758    15\n",
       "2 2021-03-24 19:20:00  Federal     3º       6920    05\n",
       "3 2021-03-24 19:20:00  Federal     4º       9751    13\n",
       "4 2021-03-24 19:20:00  Federal     5º       4908    02\n",
       "5 2021-03-24 19:20:00  Federal     6º       6273    19\n",
       "6 2021-03-24 19:20:00  Federal     7º        159    15"
      ]
     },
     "execution_count": 703,
     "metadata": {},
     "output_type": "execute_result"
    }
   ],
   "source": [
    "dfs[4"
   ]
  },
  {
   "cell_type": "code",
   "execution_count": 433,
   "id": "legitimate-smile",
   "metadata": {},
   "outputs": [
    {
     "ename": "IndexError",
     "evalue": "list index out of range",
     "output_type": "error",
     "traceback": [
      "\u001b[0;31m---------------------------------------------------------------------------\u001b[0m",
      "\u001b[0;31mIndexError\u001b[0m                                Traceback (most recent call last)",
      "\u001b[0;32m<ipython-input-433-21864126b575>\u001b[0m in \u001b[0;36m<module>\u001b[0;34m\u001b[0m\n\u001b[0;32m----> 1\u001b[0;31m \u001b[0marticles\u001b[0m\u001b[0;34m[\u001b[0m\u001b[0mi\u001b[0m\u001b[0;34m]\u001b[0m\u001b[0;34m.\u001b[0m\u001b[0mfind_all\u001b[0m\u001b[0;34m(\u001b[0m\u001b[0;34m'h2'\u001b[0m\u001b[0;34m,\u001b[0m \u001b[0;34m{\u001b[0m\u001b[0;34m'class'\u001b[0m\u001b[0;34m:\u001b[0m\u001b[0;34m'entry-title'\u001b[0m\u001b[0;34m}\u001b[0m\u001b[0;34m)\u001b[0m\u001b[0;34m[\u001b[0m\u001b[0;36m0\u001b[0m\u001b[0;34m]\u001b[0m\u001b[0;34m.\u001b[0m\u001b[0mtext\u001b[0m\u001b[0;34m.\u001b[0m\u001b[0msplit\u001b[0m\u001b[0;34m(\u001b[0m\u001b[0;34m)\u001b[0m\u001b[0;34m[\u001b[0m\u001b[0;34m-\u001b[0m\u001b[0;36m1\u001b[0m\u001b[0;34m]\u001b[0m\u001b[0;34m\u001b[0m\u001b[0;34m\u001b[0m\u001b[0m\n\u001b[0m",
      "\u001b[0;31mIndexError\u001b[0m: list index out of range"
     ]
    }
   ],
   "source": [
    "articles[i].find_all('h2', {'class':'entry-title'})[0].text.split()[-1]"
   ]
  },
  {
   "cell_type": "code",
   "execution_count": 228,
   "id": "conventional-paper",
   "metadata": {},
   "outputs": [
    {
     "data": {
      "text/plain": [
       "'PT-Rio'"
      ]
     },
     "execution_count": 228,
     "metadata": {},
     "output_type": "execute_result"
    }
   ],
   "source": [
    "articles[i].find_all('h2', {'class':'entry-title'})[0].text.split()[3] "
   ]
  },
  {
   "cell_type": "code",
   "execution_count": 232,
   "id": "advanced-leonard",
   "metadata": {},
   "outputs": [
    {
     "data": {
      "text/plain": [
       "'18:20hs'"
      ]
     },
     "execution_count": 232,
     "metadata": {},
     "output_type": "execute_result"
    }
   ],
   "source": [
    "articles[i+3].find_all('h2', {'class':'entry-title'})[0].text.split()[-3]"
   ]
  },
  {
   "cell_type": "code",
   "execution_count": null,
   "id": "killing-nashville",
   "metadata": {},
   "outputs": [],
   "source": []
  }
 ],
 "metadata": {
  "kernelspec": {
   "display_name": "Python 3",
   "language": "python",
   "name": "python3"
  },
  "language_info": {
   "codemirror_mode": {
    "name": "ipython",
    "version": 3
   },
   "file_extension": ".py",
   "mimetype": "text/x-python",
   "name": "python",
   "nbconvert_exporter": "python",
   "pygments_lexer": "ipython3",
   "version": "3.8.6"
  }
 },
 "nbformat": 4,
 "nbformat_minor": 5
}
